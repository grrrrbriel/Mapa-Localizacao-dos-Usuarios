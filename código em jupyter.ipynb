{
 "cells": [
  {
   "cell_type": "markdown",
   "metadata": {},
   "source": [
    "# Explicando as funções criadas"
   ]
  },
  {
   "cell_type": "markdown",
   "metadata": {},
   "source": [
    "## Bibliotecas necessárias para importação:"
   ]
  },
  {
   "cell_type": "code",
   "execution_count": 95,
   "metadata": {},
   "outputs": [],
   "source": [
    "import pandas as pd\n",
    "import geopy\n",
    "from geopy.geocoders import Nominatim\n",
    "from geopy.exc import GeocoderTimedOut\n",
    "import numpy as np\n",
    "import folium"
   ]
  },
  {
   "cell_type": "markdown",
   "metadata": {},
   "source": [
    "## Funções:\n",
    "### data_reading()\n",
    "Esta função realiza a leitura dos dados dos usuários retirados do site, organiza-os e salva em um dataframe."
   ]
  },
  {
   "cell_type": "code",
   "execution_count": 96,
   "metadata": {},
   "outputs": [],
   "source": [
    "def data_reading():\n",
    "\n",
    "    df = pd.read_excel(\"UsuarioSoftwareGriluLabsica.xls\", sep=';')\n",
    "    df = df.rename(columns = {\"Pessoa Fisica\": \"Tipo de Usuário\", \n",
    "                          \"1.1\": \"Quantidade de Registros\",\n",
    "                          \"Provisório\":\"Nome da Instituição\",\n",
    "                          \"Provisório.1\":\"Sigla da Instituição\", \n",
    "                          \"Outra\":\"Tipo de Instituição\", \n",
    "                          \"Unnamed: 6\":\"Endereço da Instituição/Empresa\",  \n",
    "                          \"Unnamed: 7\":\"CEP da Instituição/Empresa\", \n",
    "                          \"Provisório.2\":\"Cidade\", \n",
    "                          \"Exterior\":\"Estado\", \n",
    "                          \"Provisório.3\":\"País\",   \n",
    "                          \"Provisório.4\":\"Nome\",  \n",
    "                          \"Outra.1\":\"Formação (Graduação)\",\n",
    "                          \"Unnamed: 14\":\"CPF\", \n",
    "                          \"Unnamed: 15\":\"Endereço do Usuário\",\n",
    "                          \"Unnamed: 11\":\"CEP\",\n",
    "                          \"Unnamed: 17\":\"Telefone\",\n",
    "                          \"Graduação\":\"Titulação\",\n",
    "                          \"Em Andamento\":\"Situação da Titulação\",\n",
    "                          \"grilu@hotmail.com\":\"Email\", \n",
    "                          \"30/08/19\": \"Data do Registro\",\n",
    "                          \"Unnamed: 22\": \"Hora do Registro\"})\n",
    "    return df"
   ]
  },
  {
   "cell_type": "markdown",
   "metadata": {},
   "source": [
    "### do_geocode(address)\n",
    "Função que evita o erro GeocoderTimedOut da biblioteca geopy utilizada ao resgatar os endereços.\n",
    "\n",
    "##### Nominatim Usage Policy: https://operations.osmfoundation.org/policies/nominatim/"
   ]
  },
  {
   "cell_type": "code",
   "execution_count": 97,
   "metadata": {},
   "outputs": [],
   "source": [
    "def do_geocode(address):\n",
    "    geopy = Nominatim(user_agent=\"mapa-localizacao-dos-usuarios\")\n",
    "    try:\n",
    "        return geopy.geocode(address,exactly_one=True)\n",
    "    except GeocoderTimedOut:\n",
    "        return do_geocode(address)"
   ]
  },
  {
   "cell_type": "markdown",
   "metadata": {},
   "source": [
    "### coordinates(df)\n",
    "Recebe como entrada o dataframe e tem como objetivo criar colunas de latitude e longitude com as coordenadas obtidas utilizando-se do geopy para retirar a informação das cidades de cada usuário. Desse modo, retornará o dataframe com as colunas já criadas."
   ]
  },
  {
   "cell_type": "code",
   "execution_count": 98,
   "metadata": {},
   "outputs": [],
   "source": [
    "def coordinates(df):\n",
    "    \n",
    "    df = df.where((pd.notnull(df)), None)\n",
    "    df['Localização'] = df['Cidade'].apply(lambda x: do_geocode(x) if x != None else None)\n",
    "    \n",
    "    #Create the Latitude Column\n",
    "    lat=[]\n",
    "    for i in df['Localização']:\n",
    "        if i== None:\n",
    "            lat.append(None)\n",
    "        else:\n",
    "            lat.append(i.latitude)\n",
    "    df['Latitude']=lat\n",
    "    df['Latitude'].astype('float')\n",
    "\n",
    "    #Create the Longitude Column\n",
    "    long=[]\n",
    "    for i in df['Localização']:\n",
    "        if i== None:\n",
    "            long.append(None)\n",
    "        else:\n",
    "            long.append(i.longitude)\n",
    "    df['Longitude']=long\n",
    "    df['Longitude'].astype('float')\n",
    "\n",
    "    return df"
   ]
  },
  {
   "cell_type": "markdown",
   "metadata": {},
   "source": [
    "### map_function(df)\n",
    "Criação do mapa interativo baseado na localização dos usuários após receber o dataframe já com as colunas de latitude e longitude como entrada. "
   ]
  },
  {
   "cell_type": "code",
   "execution_count": 99,
   "metadata": {},
   "outputs": [],
   "source": [
    "def map_function(df):\n",
    "    df = df.dropna(subset=['Latitude'])\n",
    "    mapa = folium.Map(location=[df['Latitude'][0] ,df['Longitude'][0]],\n",
    "    #tiles = 'cartodbpositron', #tiles muda o tipo de mapa\n",
    "          zoom_start=9, \n",
    "          control_scale=True)\n",
    "\n",
    "    locations = df[['Latitude', 'Longitude']]\n",
    "    locationlist = locations.values.tolist()\n",
    "    \n",
    "    \n",
    "    for point in range(len(locationlist)):\n",
    "        \n",
    "        folium.Marker(location = locationlist[point],\n",
    "                      #Informações a serem apresentadas ao clicar no pop-up:\n",
    "                      #popup = dfsave['Cidade'][point],\n",
    "                      icon=folium.Icon(color='orange', prefix='fa', icon_color='white',icon='fa-sun-o')\n",
    "                 ).add_to(mapa)  \n",
    "    \n",
    "    return mapa.save('mapa.html')"
   ]
  },
  {
   "cell_type": "markdown",
   "metadata": {},
   "source": [
    "### Rodando o código"
   ]
  },
  {
   "cell_type": "code",
   "execution_count": 100,
   "metadata": {},
   "outputs": [],
   "source": [
    "if __name__ == \"__main__\":\n",
    "\n",
    "    #Reading and processing data::\n",
    "    \n",
    "    df = data_reading()\n",
    "    df = coordinates(df)\n",
    "    df_coordenadas = df[['Localização','Latitude','Longitude']]\n",
    "    df_coordenadas = df_coordenadas[~df_coordenadas.astype(str).eq('None').any(1)]\n",
    "    \n",
    "    #Creating map:\n",
    "    map_function(df_coordenadas)"
   ]
  }
 ],
 "metadata": {
  "kernelspec": {
   "display_name": "Python 3",
   "language": "python",
   "name": "python3"
  }
 },
 "nbformat": 4,
 "nbformat_minor": 2
}
